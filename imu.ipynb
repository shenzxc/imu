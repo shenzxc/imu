{
  "nbformat": 4,
  "nbformat_minor": 0,
  "metadata": {
    "colab": {
      "provenance": [],
      "gpuType": "T4",
      "machine_shape": "hm",
      "mount_file_id": "1QbQ5cvJgtlBBOzVKWqQ9cDdEp_Jb-B0e",
      "authorship_tag": "ABX9TyOzRq55Lb4DyQuVsdz+3zgV",
      "include_colab_link": true
    },
    "kernelspec": {
      "name": "python3",
      "display_name": "Python 3"
    },
    "language_info": {
      "name": "python"
    },
    "accelerator": "GPU"
  },
  "cells": [
    {
      "cell_type": "markdown",
      "metadata": {
        "id": "view-in-github",
        "colab_type": "text"
      },
      "source": [
        "<a href=\"https://colab.research.google.com/github/shenzxc/imu/blob/main/imu.ipynb\" target=\"_parent\"><img src=\"https://colab.research.google.com/assets/colab-badge.svg\" alt=\"Open In Colab\"/></a>"
      ]
    },
    {
      "cell_type": "code",
      "source": [],
      "metadata": {
        "id": "wICEVgZd_3r9"
      },
      "execution_count": null,
      "outputs": []
    },
    {
      "cell_type": "code",
      "source": [
        "import pandas as pd\n",
        "import numpy as np\n",
        "from scipy.spatial.transform import Rotation as R\n",
        "\n",
        "\n",
        "\n",
        "\n",
        "\n",
        "\n",
        "\n",
        "\n",
        "# 静止段检测函数\n",
        "def detect_stationary(data, acc_columns, threshold=1.0):\n",
        "    accel_magnitude = np.linalg.norm(data[acc_columns].values, axis=1)\n",
        "    return np.abs(accel_magnitude - 9.8) < threshold\n",
        "\n",
        "# 计算旋转矩阵函数\n",
        "def compute_rotation_matrix(gravity_vector, target_vector=np.array([0, 0, 9.8])):\n",
        "    if np.linalg.norm(gravity_vector) == 0:\n",
        "        print(\"Gravity vector is zero. Using default direction.\")\n",
        "        gravity_vector = target_vector  # 默认方向\n",
        "\n",
        "    gravity_vector = gravity_vector / np.linalg.norm(gravity_vector)\n",
        "    target_vector = target_vector / np.linalg.norm(target_vector)\n",
        "\n",
        "    try:\n",
        "        rotation, _ = R.align_vectors([target_vector], [gravity_vector])\n",
        "    except ValueError as e:\n",
        "        print(f\"Error in R.align_vectors: {e}\")\n",
        "        print(\"Using identity rotation as fallback.\")\n",
        "        rotation = R.from_matrix(np.eye(3))  # 默认单位矩阵\n",
        "    return rotation\n",
        "\n",
        "\n",
        "def reorient_imu(data, acc_columns, gyro_columns, rotation):\n",
        "    data[acc_columns] = rotation.apply(data[acc_columns].values)\n",
        "    data[gyro_columns] = rotation.apply(data[gyro_columns].values)\n",
        "    return data\n",
        "\n",
        "# 示例：重定向 IMU 数据\n",
        "#file_path = 'helmet.csv'\n",
        "helmet_data = pd.read_csv(file_path, sep='\\t')\n",
        "helmet_data.columns = bike_data.columns.str.replace(' ', '')\n",
        "#helmet_data = pd.read_csv('helmet.csv')\n",
        "#file_path = 'bike.csv'\n",
        "bike_data = pd.read_csv(file_path, sep='\\t')\n",
        "bike_data.columns = bike_data.columns.str.replace(' ', '')\n",
        "\n",
        "\n",
        "#\n",
        "# Change the column names to match your CSV files\n",
        "helmet_acc_columns = ['ax(g)', 'ay(g)', 'az(g)']  # Replace with actual column names from helmet.csv\n",
        "bike_acc_columns = ['ax(g)', 'ay(g)', 'az(g)']  # Replace with actual column names from bike.csv\n",
        "helmet_gyro_columns = ['wx(deg/s)', 'wy(deg/s)', 'wz(deg/s)'] # Replace with actual column names from helmet.csv\n",
        "bike_gyro_columns = ['wx(deg/s)', 'wy(deg/s)', 'wz(deg/s)'] # Replace with actual column names from bike.csv\n",
        "\n",
        "\n",
        "helmet_stationary = detect_stationary(helmet_data, helmet_acc_columns)\n",
        "bike_stationary = detect_stationary(bike_data, bike_acc_columns)\n",
        "\n",
        "helmet_gravity_vector = helmet_data[helmet_acc_columns][helmet_stationary].mean().values\n",
        "bike_gravity_vector = bike_data[bike_acc_columns][bike_stationary].mean().values\n",
        "\n",
        "helmet_rotation = compute_rotation_matrix(helmet_gravity_vector)\n",
        "bike_rotation = compute_rotation_matrix(bike_gravity_vector)\n",
        "\n",
        "helmet_data = reorient_imu(helmet_data, helmet_acc_columns, helmet_gyro_columns, helmet_rotation)\n",
        "bike_data = reorient_imu(bike_data, bike_acc_columns, bike_gyro_columns, bike_rotation)"
      ],
      "metadata": {
        "colab": {
          "base_uri": "https://localhost:8080/"
        },
        "id": "_BGm-Q_8AJLk",
        "outputId": "01e7dd9b-c7c2-494f-9227-f84687972dd8"
      },
      "execution_count": 111,
      "outputs": [
        {
          "output_type": "stream",
          "name": "stdout",
          "text": [
            "Error in R.align_vectors: Found zero norm quaternions in `quat`.\n",
            "Using identity rotation as fallback.\n",
            "Error in R.align_vectors: Found zero norm quaternions in `quat`.\n",
            "Using identity rotation as fallback.\n"
          ]
        }
      ]
    },
    {
      "cell_type": "code",
      "source": [
        "def align_time(data1, data2, key_column='Time(s)'):\n",
        "    offset = data1[key_column].iloc[0]- data2[key_column].iloc[0]\n",
        "    data2[key_column] += offset\n",
        "    return data1, data2\n",
        "\n",
        "helmet_data, bike_data = align_time(helmet_data, bike_data)\n"
      ],
      "metadata": {
        "id": "I-sGZFHgBHE1"
      },
      "execution_count": 112,
      "outputs": []
    },
    {
      "cell_type": "code",
      "source": [
        "# 转换时间字符串为秒数\n",
        "def time_to_seconds(time_str):\n",
        "    try:\n",
        "        h, m, s = map(float, time_str.split(':'))\n",
        "        return h * 3600 + m * 60 + s\n",
        "    except ValueError:\n",
        "        return None  # 无效时间返回 None\n",
        "\n",
        "helmet_data['Time(s)'] = helmet_data['Time(s)'].apply(time_to_seconds)\n",
        "bike_data['Time(s)'] = bike_data['Time(s)'].apply(time_to_seconds)\n",
        "\n",
        "# 删除无法解析的行\n",
        "helmet_data.dropna(subset=['Time(s)'], inplace=True)\n",
        "bike_data.dropna(subset=['Time(s)'], inplace=True)\n",
        "\n",
        "# 时间对齐函数\n",
        "def align_time(data1, data2, key_column='Time(s)'):\n",
        "    offset = data1[key_column].iloc[0] - data2[key_column].iloc[0]\n",
        "    data2[key_column] += offset\n",
        "    return data1, data2\n",
        "\n",
        "# 对齐时间\n",
        "helmet_data, bike_data = align_time(helmet_data, bike_data)"
      ],
      "metadata": {
        "id": "9UxihAFwK20N"
      },
      "execution_count": 103,
      "outputs": []
    },
    {
      "cell_type": "code",
      "source": [],
      "metadata": {
        "id": "-7FsOlI5CevT"
      },
      "execution_count": null,
      "outputs": []
    },
    {
      "cell_type": "code",
      "source": [],
      "metadata": {
        "id": "Eo1FdJe0Cezb"
      },
      "execution_count": null,
      "outputs": []
    },
    {
      "cell_type": "code",
      "source": [],
      "metadata": {
        "id": "oOHDsLs2Ce2D"
      },
      "execution_count": null,
      "outputs": []
    },
    {
      "cell_type": "code",
      "source": [],
      "metadata": {
        "id": "SrxiuEC2Ce4S"
      },
      "execution_count": null,
      "outputs": []
    },
    {
      "cell_type": "code",
      "source": [],
      "metadata": {
        "id": "GOj8NiYeCe5-"
      },
      "execution_count": null,
      "outputs": []
    },
    {
      "cell_type": "code",
      "source": [],
      "metadata": {
        "id": "tLzawmPXCfAl"
      },
      "execution_count": null,
      "outputs": []
    },
    {
      "cell_type": "code",
      "source": [],
      "metadata": {
        "id": "v9px-Q8QCfDI"
      },
      "execution_count": null,
      "outputs": []
    },
    {
      "cell_type": "code",
      "source": [
        "bike_data.columns = bike_data.columns.str.replace(' ', '')"
      ],
      "metadata": {
        "id": "YYS0vwAG_O6T"
      },
      "execution_count": 64,
      "outputs": []
    },
    {
      "cell_type": "code",
      "source": [],
      "metadata": {
        "id": "rOUYnvxXItEt"
      },
      "execution_count": null,
      "outputs": []
    },
    {
      "cell_type": "code",
      "source": [
        "print(helmet_data.columns.tolist())"
      ],
      "metadata": {
        "colab": {
          "base_uri": "https://localhost:8080/"
        },
        "id": "N2t3Mq4g_PF1",
        "outputId": "d5818af4-5821-4ecf-f560-84416c192056"
      },
      "execution_count": 66,
      "outputs": [
        {
          "output_type": "stream",
          "name": "stdout",
          "text": [
            "['address', 'Time(s)', 'ax(g)', 'ay(g)', 'az(g)', 'wx(deg/s)', 'wy(deg/s)', 'wz(deg/s)', 'AngleX(deg)', 'AngleY(deg)', 'AngleZ(deg)', 'Temperature(°)', 'hx', 'hy', 'hz', 'Longitude', 'Latitude', 'GPSHeight', 'GPSYaw', 'GroundVelocity', 'Pressure', 'Height']\n"
          ]
        }
      ]
    },
    {
      "cell_type": "code",
      "source": [],
      "metadata": {
        "id": "mBCONh9K_PIm"
      },
      "execution_count": null,
      "outputs": []
    },
    {
      "cell_type": "code",
      "source": [
        "def segment_data(data, segment_type):\n",
        "    # 示例分割逻辑：基于速度和角速度\n",
        "    if segment_type == 'straight':\n",
        "        return data[data['wx(deg/s)'] < 0.1]  # 小角速度\n",
        "    elif segment_type == 'turn':\n",
        "        return data[data['wx(deg/s)'] > 0.1]  # 大角速度\n"
      ],
      "metadata": {
        "id": "hUF-CZPOLJ0f"
      },
      "execution_count": 113,
      "outputs": []
    },
    {
      "cell_type": "code",
      "source": [
        "helmet_data.columns = helmet_data.columns.str.strip()\n",
        "\n",
        "# 检查缺失值并清理\n",
        "helmet_data.dropna(subset=['ax(g)', 'ay(g)', 'az(g)', 'wx(deg/s)', 'wy(deg/s)', 'wz(deg/s)', 'AngleX(deg)', 'AngleY(deg)', 'AngleZ(deg)'], inplace=True)"
      ],
      "metadata": {
        "id": "poFF3K-POT0B"
      },
      "execution_count": 115,
      "outputs": []
    },
    {
      "cell_type": "code",
      "source": [
        "def classify_motion_mode(row):\n",
        "    if abs(row['ax(g)']) > 0.5:\n",
        "        return 'accelerating'\n",
        "    elif abs(row['ax(g)']) < 0.1 and abs(row['ay(g)']) < 0.1 and abs(row['az(g)'] - 9.8) < 0.1:\n",
        "        return 'stationary'\n",
        "    else:\n",
        "        return 'decelerating'"
      ],
      "metadata": {
        "id": "Xx_94-IAOT5D"
      },
      "execution_count": 116,
      "outputs": []
    },
    {
      "cell_type": "code",
      "source": [
        "def classify_turning_direction(row):\n",
        "    if row['wy(deg/s)'] > 10:\n",
        "        return 'turn_left'\n",
        "    elif row['wy(deg/s)'] < -10:\n",
        "        return 'turn_right'\n",
        "    else:\n",
        "        return 'straight'"
      ],
      "metadata": {
        "id": "SDA1ISUnOT7f"
      },
      "execution_count": 117,
      "outputs": []
    },
    {
      "cell_type": "code",
      "source": [
        "def classify_observation_direction(row):\n",
        "    if row['AngleY(deg)'] > 10:\n",
        "        return 'look_left'\n",
        "    elif row['AngleY(deg)'] < -10:\n",
        "        return 'look_right'\n",
        "    else:\n",
        "        return 'look_forward'"
      ],
      "metadata": {
        "id": "sHSnmMyuOfBf"
      },
      "execution_count": 118,
      "outputs": []
    },
    {
      "cell_type": "code",
      "source": [
        "# 应用标签生成函数\n",
        "helmet_data['motion_mode'] = helmet_data.apply(classify_motion_mode, axis=1)\n",
        "helmet_data['turning_direction'] = helmet_data.apply(classify_turning_direction, axis=1)\n",
        "helmet_data['observation_direction'] = helmet_data.apply(classify_observation_direction, axis=1)\n",
        "\n",
        "# 查看生成的标签\n",
        "print(helmet_data[['Time(s)', 'motion_mode', 'turning_direction', 'observation_direction']].head())\n"
      ],
      "metadata": {
        "colab": {
          "base_uri": "https://localhost:8080/"
        },
        "id": "LcqdpSJnOfEO",
        "outputId": "2d197677-3bc4-447a-8224-53888b7a995e"
      },
      "execution_count": 119,
      "outputs": [
        {
          "output_type": "stream",
          "name": "stdout",
          "text": [
            "   Time(s)   motion_mode turning_direction observation_direction\n",
            "0  990.180  accelerating        turn_right             look_left\n",
            "1  990.118  decelerating        turn_right          look_forward\n",
            "2  990.218  decelerating          straight          look_forward\n",
            "3  990.318  decelerating          straight          look_forward\n",
            "4  990.418  decelerating        turn_right          look_forward\n"
          ]
        }
      ]
    },
    {
      "cell_type": "code",
      "source": [
        "print(helmet_data['motion_mode'].value_counts())\n",
        "print(helmet_data['turning_direction'].value_counts())\n",
        "print(helmet_data['observation_direction'].value_counts())\n"
      ],
      "metadata": {
        "colab": {
          "base_uri": "https://localhost:8080/"
        },
        "id": "I8eA9a6jOsYs",
        "outputId": "b5d4d2e5-f9e3-4b91-eae7-fd61012a58fa"
      },
      "execution_count": 120,
      "outputs": [
        {
          "output_type": "stream",
          "name": "stdout",
          "text": [
            "motion_mode\n",
            "decelerating    72441\n",
            "accelerating      668\n",
            "Name: count, dtype: int64\n",
            "turning_direction\n",
            "straight      61711\n",
            "turn_left      5842\n",
            "turn_right     5556\n",
            "Name: count, dtype: int64\n",
            "observation_direction\n",
            "look_forward    63021\n",
            "look_left        9586\n",
            "look_right        502\n",
            "Name: count, dtype: int64\n"
          ]
        }
      ]
    },
    {
      "cell_type": "code",
      "source": [
        "import matplotlib.pyplot as plt\n",
        "\n",
        "# 绘制运动模式随时间的变化\n",
        "plt.figure(figsize=(12, 6))\n",
        "plt.plot(helmet_data['Time(s)'], helmet_data['motion_mode'], label='Motion Mode')\n",
        "plt.xlabel('Time (s)')\n",
        "plt.ylabel('Motion Mode')\n",
        "plt.title('Motion Mode Over Time')\n",
        "plt.legend()\n",
        "plt.show()\n"
      ],
      "metadata": {
        "colab": {
          "base_uri": "https://localhost:8080/",
          "height": 423
        },
        "id": "ZM1OE0ayOy8H",
        "outputId": "c98df3ec-7e20-42d8-b6b2-b7e244e45333"
      },
      "execution_count": 121,
      "outputs": [
        {
          "output_type": "display_data",
          "data": {
            "text/plain": [
              "<Figure size 1200x600 with 1 Axes>"
            ],
            "image/png": "[encoded data removed]"
          },
          "metadata": {}
        }
      ]
    },
    {
      "cell_type": "code",
      "source": [
        "helmet_data.to_csv('helmet_with_labels.csv', index=False)\n",
        "print(\"生成的带标签数据已保存到 helmet_with_labels.csv\")"
      ],
      "metadata": {
        "colab": {
          "base_uri": "https://localhost:8080/"
        },
        "id": "-ZJQ3EsTO6EI",
        "outputId": "61b13b2f-f6cf-4d71-a387-758f15d0484d"
      },
      "execution_count": 122,
      "outputs": [
        {
          "output_type": "stream",
          "name": "stdout",
          "text": [
            "生成的带标签数据已保存到 helmet_with_labels.csv\n"
          ]
        }
      ]
    },
    {
      "cell_type": "code",
      "source": [
        "helmet_data['label'] = helmet_data['motion_mode']\n",
        "\n",
        "# 分类任务\n",
        "X = helmet_data[['ax(g)', 'ay(g)', 'az(g)', 'wx(deg/s)', 'wy(deg/s)', 'wz(deg/s)']]\n",
        "y = helmet_data['label']\n",
        "\n",
        "X_train, X_test, y_train, y_test = train_test_split(X, y, test_size=0.2, random_state=42)\n",
        "\n",
        "clf = RandomForestClassifier()\n",
        "clf.fit(X_train, y_train)\n",
        "\n",
        "y_pred = clf.predict(X_test)\n",
        "print(classification_report(y_test, y_pred))"
      ],
      "metadata": {
        "colab": {
          "base_uri": "https://localhost:8080/"
        },
        "id": "wbF9oc_5QMR6",
        "outputId": "7fff8e9a-bb02-4653-e77c-38cc1a461f33"
      },
      "execution_count": 123,
      "outputs": [
        {
          "output_type": "stream",
          "name": "stdout",
          "text": [
            "              precision    recall  f1-score   support\n",
            "\n",
            "accelerating       1.00      0.99      1.00       151\n",
            "decelerating       1.00      1.00      1.00     14471\n",
            "\n",
            "    accuracy                           1.00     14622\n",
            "   macro avg       1.00      1.00      1.00     14622\n",
            "weighted avg       1.00      1.00      1.00     14622\n",
            "\n"
          ]
        }
      ]
    },
    {
      "cell_type": "code",
      "source": [
        "import matplotlib.pyplot as plt\n",
        "\n",
        "# 绘制加速度随时间的变化\n",
        "plt.plot(helmet_data['Time(s)'], helmet_data['ax(g)'], label='Helmet Acc X')\n",
        "plt.plot(bike_data['Time(s)'], bike_data['ax(g)'], label='Bike Acc X')\n",
        "plt.xlabel('Time(s)')\n",
        "plt.ylabel('Acceleration')\n",
        "plt.legend()\n",
        "plt.show()"
      ],
      "metadata": {
        "colab": {
          "base_uri": "https://localhost:8080/",
          "height": 449
        },
        "id": "lNGvyn4TQyKd",
        "outputId": "3c7536ec-0e5e-4eb8-8638-85d9bd9aca72"
      },
      "execution_count": 125,
      "outputs": [
        {
          "output_type": "display_data",
          "data": {
            "text/plain": [
              "<Figure size 640x480 with 1 Axes>"
            ],
            "image/png": "[encoded data removed]"
          },
          "metadata": {}
        }
      ]
    }
  ]
}